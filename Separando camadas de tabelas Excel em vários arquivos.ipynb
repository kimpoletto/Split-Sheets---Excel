{
 "cells": [
  {
   "cell_type": "markdown",
   "metadata": {},
   "source": [
    "# Importando pacotes necessários "
   ]
  },
  {
   "cell_type": "code",
   "execution_count": 1,
   "metadata": {},
   "outputs": [],
   "source": [
    "import xlwings as xw\n",
    "import os"
   ]
  },
  {
   "cell_type": "markdown",
   "metadata": {},
   "source": [
    "# Separando camadas de tabelas Excel em vários arquivos"
   ]
  },
  {
   "cell_type": "code",
   "execution_count": 3,
   "metadata": {},
   "outputs": [],
   "source": [
    "tabela = r'C:\\Nova pasta\\Documents\\ToDAP\\Lote 4\\Alvo_Elefante\\Drilling\\Logs_Escaneados\\pko_elefante_fps\\elef_fp_lito_Bruno.xls'\n",
    "\n",
    "try:\n",
    "    excel_app = xw.App(visible=False)\n",
    "    wb = excel_app.books.open(tabela)\n",
    "    for sheet in wb.sheets:\n",
    "        sheet.api.Copy()\n",
    "        wb_new = xw.books.active\n",
    "        wb_new.save(f'C:\\\\Nova pasta\\\\Documents\\\\ToDAP\\\\Lote 4\\\\Alvo_Elefante\\\\Drilling\\\\Logs_Escaneados\\\\pko_elefante_fps\\\\{sheet.name}.xlsx')\n",
    "        wb_new.close()\n",
    "finally:\n",
    "    excel_app.quit()"
   ]
  },
  {
   "cell_type": "markdown",
   "metadata": {},
   "source": [
    "# Renomeando os arquivos de acordo com o padrão"
   ]
  },
  {
   "cell_type": "code",
   "execution_count": 54,
   "metadata": {},
   "outputs": [],
   "source": [
    "cam = r'C:\\Nova pasta\\Documents\\ToDAP\\mierados\\Alvo_Banana\\Drilling'\n",
    "cam2 = 'C:\\\\Nova pasta\\\\Documents\\\\ToDAP\\\\minerado\\\\Alvo_Calcario_Norte\\\\Drilling\\\\Nova pasta\\\\renome'\n",
    "for root, dirs, files in os.walk(cam):\n",
    "    for file in files:\n",
    "        if len(file) == 14:\n",
    "            #print(file)\n",
    "        \n",
    "            for x in range(1,8):\n",
    "                \n",
    "                    \n",
    "                try:\n",
    "                    os.rename(f'{cam}\\\\{file}', f'{cam}\\\\bana_dh_sam_fd{x:02d}_srb.xlsx')\n",
    "\n",
    "                except:\n",
    "                    pass\n",
    "\n",
    "            \n",
    "            \n",
    "                                 "
   ]
  },
  {
   "cell_type": "code",
   "execution_count": 31,
   "metadata": {},
   "outputs": [
    {
     "name": "stdout",
     "output_type": "stream",
     "text": [
      "29\n"
     ]
    }
   ],
   "source": [
    "x = 'caln_dh_fd01_boletim_srb.xlsx'\n",
    "print(len(x))"
   ]
  },
  {
   "cell_type": "code",
   "execution_count": null,
   "metadata": {},
   "outputs": [],
   "source": []
  }
 ],
 "metadata": {
  "kernelspec": {
   "display_name": "Python 3",
   "language": "python",
   "name": "python3"
  },
  "language_info": {
   "codemirror_mode": {
    "name": "ipython",
    "version": 3
   },
   "file_extension": ".py",
   "mimetype": "text/x-python",
   "name": "python",
   "nbconvert_exporter": "python",
   "pygments_lexer": "ipython3",
   "version": "3.8.5"
  }
 },
 "nbformat": 4,
 "nbformat_minor": 4
}
